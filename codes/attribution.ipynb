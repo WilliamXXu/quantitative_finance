{
 "cells": [
  {
   "cell_type": "code",
   "execution_count": 10,
   "id": "bcfc5b0e",
   "metadata": {},
   "outputs": [],
   "source": [
    "from google.genai import types\n",
    "from google import genai\n",
    "import os\n",
    "from datetime import datetime\n",
    "from utilities import gemini"
   ]
  },
  {
   "cell_type": "code",
   "execution_count": 1,
   "id": "76b4a38c",
   "metadata": {},
   "outputs": [
    {
     "ename": "NameError",
     "evalue": "name 'genai' is not defined",
     "output_type": "error",
     "traceback": [
      "\u001b[0;31m---------------------------------------------------------------------------\u001b[0m",
      "\u001b[0;31mNameError\u001b[0m                                 Traceback (most recent call last)",
      "Cell \u001b[0;32mIn[1], line 1\u001b[0m\n\u001b[0;32m----> 1\u001b[0m client \u001b[38;5;241m=\u001b[39m genai\u001b[38;5;241m.\u001b[39mClient(api_key\u001b[38;5;241m=\u001b[39mos\u001b[38;5;241m.\u001b[39mgetenv(\u001b[38;5;124m\"\u001b[39m\u001b[38;5;124mGOOGLE_API_KEY\u001b[39m\u001b[38;5;124m\"\u001b[39m))\n\u001b[1;32m      2\u001b[0m \u001b[38;5;28;01mdef\u001b[39;00m \u001b[38;5;21mattribution\u001b[39m(full_name,percentage_change):\n\u001b[1;32m      3\u001b[0m     question\u001b[38;5;241m=\u001b[39m\u001b[38;5;124m'\u001b[39m\u001b[38;5;124mToday is \u001b[39m\u001b[38;5;124m'\u001b[39m\u001b[38;5;241m+\u001b[39mdatetime\u001b[38;5;241m.\u001b[39mtoday()\u001b[38;5;241m.\u001b[39mstrftime(\u001b[38;5;124m'\u001b[39m\u001b[38;5;132;01m%d\u001b[39;00m\u001b[38;5;124m-\u001b[39m\u001b[38;5;124m%\u001b[39m\u001b[38;5;124mm-\u001b[39m\u001b[38;5;124m%\u001b[39m\u001b[38;5;124mY\u001b[39m\u001b[38;5;124m'\u001b[39m)\u001b[38;5;241m+\u001b[39m\u001b[38;5;124m'\u001b[39m\u001b[38;5;124m. The stock of company \u001b[39m\u001b[38;5;124m'\u001b[39m\u001b[38;5;241m+\u001b[39mfull_name\u001b[38;5;241m+\u001b[39m\u001b[38;5;124m'\u001b[39m\u001b[38;5;124m changed \u001b[39m\u001b[38;5;124m'\u001b[39m\u001b[38;5;241m+\u001b[39m\u001b[38;5;28mstr\u001b[39m(percentage_change)\u001b[38;5;241m+\u001b[39m\u001b[38;5;124m'\u001b[39m\u001b[38;5;124m percent. What happened to the company \u001b[39m\u001b[38;5;124m'\u001b[39m\u001b[38;5;241m+\u001b[39mfull_name\u001b[38;5;241m+\u001b[39m\u001b[38;5;124m'\u001b[39m\u001b[38;5;124m? Why is there such a dramatic change in its stock price\u001b[39m\u001b[38;5;124m'\u001b[39m\n",
      "\u001b[0;31mNameError\u001b[0m: name 'genai' is not defined"
     ]
    }
   ],
   "source": [
    "client = genai.Client(api_key=os.getenv(\"GOOGLE_API_KEY\"))\n",
    "def attribution(full_name,percentage_change):\n",
    "    question='Today is '+datetime.today().strftime('%d-%m-%Y')+'. The stock of company '+full_name+' changed '+str(percentage_change)+' percent. What happened to the company '+full_name+'? Why is there such a dramatic change in its stock price'\n",
    "    response = gemini(question,client)\n",
    "    return response.text\n"
   ]
  },
  {
   "cell_type": "code",
   "execution_count": 36,
   "id": "5be37f0f",
   "metadata": {},
   "outputs": [],
   "source": [
    "full_name='Diageo plc'\n",
    "full_name='GSK'\n",
    "full_name='Oxford Instruments plc'\n",
    "full_name='DCC plc'\n",
    "change=-3.18"
   ]
  },
  {
   "cell_type": "code",
   "execution_count": 37,
   "id": "7e2cc877",
   "metadata": {},
   "outputs": [
    {
     "data": {
      "text/plain": [
       "\"On February 5, 2025, DCC plc's stock experienced a change of approximately -3.18%. Here's what likely contributed to this change:\\n\\n*   **Q3 Trading Statement:** DCC plc released its Q3 trading statement on February 5, 2025. While the group's adjusted operating profit was broadly in line with the prior year (and modestly ahead on a constant currency basis), there were some factors that may have influenced the stock price.\\n*   **DCC Technology Performance:** Operating profit declined in DCC Technology due to a weak market for consumer technology products in the UK and Europe over the holiday season.\\n*   **Planned Divestiture:** DCC announced an update to its strategy on November 12, 2024, focusing on the energy sector and intending to dispose of DCC Healthcare in 2025. While the disposal process is progressing as expected, such strategic shifts can sometimes create uncertainty among investors.\\n*   **Broader Market Reaction:** The firm's shares were down 2.6% in London on Wednesday morning.\\n*   **Currency Translation:** DCC continues to expect good operating profit growth, notwithstanding the headwind of currency translation.\\n\""
      ]
     },
     "execution_count": 37,
     "metadata": {},
     "output_type": "execute_result"
    }
   ],
   "source": [
    "attribution(full_name,change,)"
   ]
  },
  {
   "cell_type": "code",
   "execution_count": 7,
   "id": "982ca3ff",
   "metadata": {},
   "outputs": [],
   "source": [
    "question='Today is '+datetime.today().strftime('%Y-%m-%d')\n",
    "'what happened to GSK stock today 2025 feb 5th?'#'what date is it today? what time is it now'#\n",
    "#question='Who is Matthias Zilbauer'"
   ]
  },
  {
   "cell_type": "code",
   "execution_count": 18,
   "id": "344b7f9a",
   "metadata": {},
   "outputs": [],
   "source": []
  },
  {
   "cell_type": "code",
   "execution_count": 19,
   "id": "0b454ce3",
   "metadata": {},
   "outputs": [
    {
     "name": "stdout",
     "output_type": "stream",
     "text": [
      "Based on the information available on February 5, 2025:\n",
      "\n",
      "*   **Stock Price Target Reduction:** Barclays cut Diageo's stock price target to GBp26.60 from GBp28.60, while maintaining an Overweight rating.\n",
      "*   **Financial Performance:** Diageo presented strong financial results for the first half of the year but offered a cautious outlook for the year-end and withdrew its medium-term guidance.\n",
      "*   **Analyst Ratings:**\n",
      "    *   Bernstein maintained an Outperform rating with a price target of GBP28.80.\n",
      "    *   BofA Securities slightly reduced its price target from $137.00 to $136.00 but maintained a Buy rating.\n",
      "    *   JPMorgan reiterated a Neutral rating with a price target of GBp25.00.\n",
      "*   **Tariff Concerns:** Potential tariffs pose a risk to key brands like Crown Royal, Don Julio, and Casamigos.\n",
      "*   **Sales and Earnings:**\n",
      "    *   Organic net sales increased 1% year over year.\n",
      "    *   Pre-exceptional earnings per share declined 9.6% year over year.\n",
      "*   **Dividend:** The company retained its interim dividend at 40.50 cents per share.\n",
      "*   **Sale of Shares:** Diageo announced the sale of an 80.4% shareholding in Guinness Ghana Breweries plc to Castel Group.\n",
      "*   **52-Week Low:** Diageo PLC set a new 52-week low during Tuesday's trading session, reaching 2,261.00. The share price is down -20.67% over this period.\n",
      "\n",
      "It's important to note that while the initial prompt mentioned a 3.97% change in Diageo's stock, the provided search results do not offer specific details about this percentage change.\n",
      "\n"
     ]
    }
   ],
   "source": []
  },
  {
   "cell_type": "code",
   "execution_count": 22,
   "id": "0974a89b",
   "metadata": {},
   "outputs": [
    {
     "name": "stdout",
     "output_type": "stream",
     "text": [
      "On February 5, 2025, GSK's stock experienced a significant jump. Several factors contributed to this increase:\n",
      "\n",
      "*   **Improved Long-Term Outlook:** GSK boosted its long-term sales target, projecting revenue to exceed £40 billion by 2031. This reflects confidence in their specialty medicines and late-stage drug pipeline.\n",
      "*   **Share Buyback Plan:** The company launched a £2 billion share buyback program.\n",
      "*   **Strong 2024 Performance:** GSK reported strong sales and core earnings per share for the fourth quarter of 2024, beating estimates. Specifically, Specialty Medicines sales rose 19%, driven by growth in HIV, Oncology, and Respiratory/Immunology.\n",
      "*   **Positive Guidance for 2025:** GSK expects revenue to grow between 3% and 5% in 2025.\n",
      "*   **New Product Approvals:** GSK anticipates five \"major\" new product approvals in 2025.\n",
      "\n",
      "These factors combined to create optimism among investors, leading to the surge in GSK's stock price.\n",
      "\n"
     ]
    }
   ],
   "source": [
    "response = client.models.generate_content(\n",
    "    model=\"gemini-2.0-flash\", contents=question,config=types.GenerateContentConfig(\n",
    "        tools=[types.Tool(\n",
    "            google_search=types.GoogleSearchRetrieval\n",
    "        )]\n",
    "    )\n",
    ")\n",
    "print(response.text)"
   ]
  },
  {
   "cell_type": "code",
   "execution_count": null,
   "id": "1bbf7d56",
   "metadata": {},
   "outputs": [],
   "source": []
  }
 ],
 "metadata": {
  "kernelspec": {
   "display_name": "Python 3 (ipykernel)",
   "language": "python",
   "name": "python3"
  },
  "language_info": {
   "codemirror_mode": {
    "name": "ipython",
    "version": 3
   },
   "file_extension": ".py",
   "mimetype": "text/x-python",
   "name": "python",
   "nbconvert_exporter": "python",
   "pygments_lexer": "ipython3",
   "version": "3.11.8"
  }
 },
 "nbformat": 4,
 "nbformat_minor": 5
}
