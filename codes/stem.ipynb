{
 "cells": [
  {
   "cell_type": "code",
   "execution_count": null,
   "id": "ebdb4622",
   "metadata": {},
   "outputs": [],
   "source": []
  },
  {
   "cell_type": "code",
   "execution_count": null,
   "id": "2ac1ab47",
   "metadata": {},
   "outputs": [],
   "source": []
  },
  {
   "cell_type": "code",
   "execution_count": null,
   "id": "a5722476",
   "metadata": {},
   "outputs": [],
   "source": [
    "\n",
    "def stock_list_annotation(tickers, client,nation):\n",
    "    \"\"\"Get top N intraday losers from a predefined S&P 500 ticker list with company details\n",
    "    \n",
    "    Returns DataFrame with company name, sector, market cap, current price, and percentage change.\n",
    "    Includes random sleep intervals between API calls to prevent rate limiting.\n",
    "    \"\"\"\n",
    "    losers = []\n",
    "    ending=nation_ending[nation]\n",
    "    def get_market_cap_formatted(market_cap):\n",
    "        \"\"\"Convert market cap to readable format\"\"\"\n",
    "        if not market_cap:\n",
    "            return 'N/A'\n",
    "        billion = 1_000_000_000\n",
    "        if market_cap >= billion:\n",
    "            return f\"${round(market_cap/billion, 1)}B\"\n",
    "        else:\n",
    "            return f\"${round(market_cap/1_000_000, 1)}M\"\n",
    "    \n",
    "    for ticker in tickers:\n",
    "        print(ticker)\n",
    "        try:\n",
    "            #Random sleep between 0 and 3 seconds\n",
    "            \n",
    "\n",
    "\n",
    "            stock = yf.Ticker(ticker+ending)\n",
    "            data = stock.history(period='1d', interval='1m')\n",
    "            dic={\n",
    "                'Ticker': ticker,\n",
    "                'Company Name': stock.info.get('longName', 'N/A'),\n",
    "                'Sector': stock.info.get('sector', 'N/A'),\n",
    "                'Market Cap': get_market_cap_formatted(stock.info.get('marketCap', None)),\n",
    "            }\n",
    "\n",
    "            dic['Summary']=summary(dic['Company Name'],nation,client)\n",
    "            print(dic['Summary'])\n",
    "            \n",
    "        except Exception as e:\n",
    "            dic=dict()\n",
    "        losers.append(dic)\n",
    "        sleep_time=np.random.gamma(4,5)\n",
    "        print(sleep_time)\n",
    "        time.sleep(sleep_time)\n",
    "    losers_df = pd.DataFrame(losers)\n",
    "    if len(losers_df) == 0:\n",
    "        return pd.DataFrame(columns=['Ticker', 'Company Name', 'Sector', 'Market Cap', 'Summary'])\n",
    "    \n",
    "    #losers_df = losers_df.sort_values(by='% Change')\n",
    "    return losers_df[['Ticker', 'Company Name', 'Sector', 'Market Cap', 'Summary']].reset_index(drop=True)\n"
   ]
  }
 ],
 "metadata": {
  "kernelspec": {
   "display_name": "base",
   "language": "python",
   "name": "python3"
  },
  "language_info": {
   "name": "python",
   "version": "3.11.8"
  }
 },
 "nbformat": 4,
 "nbformat_minor": 5
}
