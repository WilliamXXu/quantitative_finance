{
 "cells": [
  {
   "cell_type": "code",
   "execution_count": 1,
   "id": "5ad14d84",
   "metadata": {},
   "outputs": [],
   "source": [
    "import yfinance as yf\n",
    "import pandas as pd\n",
    "import time\n",
    "import random\n",
    "from utilities import writeOut,gemini\n",
    "from datetime import datetime\n",
    "import os\n",
    "from dashscope import Generation\n",
    "import re\n",
    "import numpy as np\n",
    "from google.genai import types\n",
    "from google import genai\n",
    "\n",
    "nation_ending={'UK':'.L','US':''}"
   ]
  },
  {
   "cell_type": "code",
   "execution_count": 2,
   "id": "d317de0b",
   "metadata": {},
   "outputs": [],
   "source": [
    "list_name='ftse100'\n",
    "annotated_list=pd.read_csv('data/'+list_name+'_annotation.csv',index_col=0)"
   ]
  },
  {
   "cell_type": "code",
   "execution_count": 10,
   "id": "64fe9e40",
   "metadata": {},
   "outputs": [],
   "source": [
    "client = genai.Client(api_key=os.getenv(\"GOOGLE_API_KEY\"))\n",
    "def change_attribution(full_name,percentage_change,client):\n",
    "    print('activated')\n",
    "    question='Today is '+datetime.today().strftime('%d-%m-%Y')+'. The stock of company '+full_name+' changed '+str(percentage_change)+' percent. What happened to the company '+full_name+'? Why is there such a dramatic change in its stock price'\n",
    "    response=gemini(question,client)\n",
    "    return response"
   ]
  },
  {
   "cell_type": "code",
   "execution_count": 11,
   "id": "55f7d353",
   "metadata": {},
   "outputs": [],
   "source": [
    "\n",
    "def get_intraday_losers_annotation(annotated_list,nation,sleep_params=(1,5),attribution_threshold=1.0):\n",
    "    \"\"\"Get top N intraday losers from a predefined S&P 500 ticker list with company details\n",
    "    \n",
    "    Returns DataFrame with company name, sector, market cap, current price, and percentage change.\n",
    "    Includes random sleep intervals between API calls to prevent rate limiting.\n",
    "    \"\"\"\n",
    "    ending=nation_ending[nation]\n",
    "    losers = dict()\n",
    "    \n",
    "    \n",
    "    for ticker,info in annotated_list.iterrows():\n",
    "        print(ticker)\n",
    "        try:\n",
    "            # Random sleep between 0 and 3 seconds\n",
    "            #time.sleep(random.uniform(0, 1))\n",
    "            \n",
    "            stock = yf.Ticker(ticker+ending)\n",
    "            data = stock.history(period='1d', interval='1m')\n",
    "            \n",
    "            if len(data) < 2:\n",
    "                continue\n",
    "                \n",
    "            latest_price = data['Close'].iloc[-1]\n",
    "            prev_close = stock.info.get('regularMarketPreviousClose', None)\n",
    "            \n",
    "            if prev_close and latest_price:\n",
    "                pct_change = (latest_price - prev_close) / prev_close * 100\n",
    "                info['Price']=round(latest_price, 2)\n",
    "                info['Change_percent']=round(pct_change, 2)\n",
    "                losers[ticker]=info\n",
    "                info['Attribution']=''\n",
    "                print(info['Change_percent'])\n",
    "                if np.abs(info['Change_percent'])>=attribution_threshold:\n",
    "                    print(str(pct_change))\n",
    "                    reason=change_attribution(info['Compnay Name'],info['Change_percent'],client)\n",
    "                    print(reason)\n",
    "                    info['Attribution']=reason\n",
    "            \n",
    "        except Exception as e:\n",
    "            info=dict()\n",
    "        losers[ticker]=info\n",
    "        sleep_time=np.random.gamma(*sleep_params)\n",
    "        print(sleep_time)\n",
    "        time.sleep(sleep_time)\n",
    "        \n",
    "    losers_df =pd.DataFrame.from_dict(losers).T\n",
    "    print(losers_df)\n",
    "    #print(losers_df.T.columns)\n",
    "    losers_df = losers_df.sort_values(by='Change_percent')\n",
    "    return losers_df#[['Ticker', 'Company Name', 'Sector', 'Market Cap', 'Price', '% Change']].reset_index(drop=True)\n"
   ]
  },
  {
   "cell_type": "code",
   "execution_count": 12,
   "id": "4dd2d200",
   "metadata": {},
   "outputs": [
    {
     "name": "stdout",
     "output_type": "stream",
     "text": [
      "AHT\n",
      "-1.43\n",
      "-1.4318564441604404\n",
      "6.744244148358598\n",
      "ABF\n",
      "-0.27\n",
      "0.10758093298996775\n",
      "AZN\n",
      "-1.58\n",
      "-1.5781435601561176\n",
      "0.4397113268166052\n",
      "AUTO\n",
      "-1.68\n",
      "-1.6841062023555058\n",
      "1.0902904850959867\n"
     ]
    },
    {
     "ename": "KeyboardInterrupt",
     "evalue": "",
     "output_type": "error",
     "traceback": [
      "\u001b[0;31m---------------------------------------------------------------------------\u001b[0m",
      "\u001b[0;31mKeyboardInterrupt\u001b[0m                         Traceback (most recent call last)",
      "Cell \u001b[0;32mIn[12], line 1\u001b[0m\n\u001b[0;32m----> 1\u001b[0m res\u001b[38;5;241m=\u001b[39mget_intraday_losers_annotation(annotated_list[\u001b[38;5;241m6\u001b[39m:],\u001b[38;5;124m'\u001b[39m\u001b[38;5;124mUK\u001b[39m\u001b[38;5;124m'\u001b[39m)\n",
      "Cell \u001b[0;32mIn[11], line 44\u001b[0m, in \u001b[0;36mget_intraday_losers_annotation\u001b[0;34m(annotated_list, nation, sleep_params, attribution_threshold)\u001b[0m\n\u001b[1;32m     42\u001b[0m     sleep_time\u001b[38;5;241m=\u001b[39mnp\u001b[38;5;241m.\u001b[39mrandom\u001b[38;5;241m.\u001b[39mgamma(\u001b[38;5;241m*\u001b[39msleep_params)\n\u001b[1;32m     43\u001b[0m     \u001b[38;5;28mprint\u001b[39m(sleep_time)\n\u001b[0;32m---> 44\u001b[0m     time\u001b[38;5;241m.\u001b[39msleep(sleep_time)\n\u001b[1;32m     46\u001b[0m losers_df \u001b[38;5;241m=\u001b[39mpd\u001b[38;5;241m.\u001b[39mDataFrame\u001b[38;5;241m.\u001b[39mfrom_dict(losers)\u001b[38;5;241m.\u001b[39mT\n\u001b[1;32m     47\u001b[0m \u001b[38;5;28mprint\u001b[39m(losers_df)\n",
      "\u001b[0;31mKeyboardInterrupt\u001b[0m: "
     ]
    }
   ],
   "source": [
    "res=get_intraday_losers_annotation(annotated_list[6:],'UK')"
   ]
  },
  {
   "cell_type": "code",
   "execution_count": 8,
   "id": "c7eb6c9c",
   "metadata": {},
   "outputs": [],
   "source": [
    "res.to_csv('daily_ranking/'+list_name+'_top_loser_'+datetime.today().strftime('%Y-%m-%d-%H-%M-%S')+'.csv')"
   ]
  },
  {
   "cell_type": "code",
   "execution_count": 16,
   "id": "a43ae7e4",
   "metadata": {},
   "outputs": [],
   "source": [
    "list_name='ftse100'\n",
    "ending='.L'\n",
    "# list_name='SP500.txt'\n",
    "# ending=''\n",
    "filel=open('../gathering/data/'+list_name+'.txt','a+')\n",
    "filel.seek(0)\n",
    "stocklist=filel.read().splitlines()\n",
    "filel.close()"
   ]
  },
  {
   "cell_type": "code",
   "execution_count": 18,
   "id": "effca13d",
   "metadata": {},
   "outputs": [],
   "source": [
    "res.to_csv(list_name+'_top_loser_'+datetime.today().strftime('%Y-%m-%d')+'.csv', index=False)\n"
   ]
  },
  {
   "cell_type": "code",
   "execution_count": 61,
   "id": "d3234482",
   "metadata": {},
   "outputs": [],
   "source": [
    "question=\"Please summarise the business of UK stock symbol GSK. Return one sentence within 500 characters.\""
   ]
  },
  {
   "cell_type": "code",
   "execution_count": 64,
   "id": "1b27ac76",
   "metadata": {},
   "outputs": [],
   "source": [
    "question='deepseek api how to enable web search? what input to use'"
   ]
  },
  {
   "cell_type": "code",
   "execution_count": 11,
   "id": "4a98b14c",
   "metadata": {},
   "outputs": [],
   "source": [
    "question='what date is it today? what time is it now'#'what happened to GSK stock today?'\n",
    "#question='Who is Matthias Zilbauer'"
   ]
  },
  {
   "cell_type": "code",
   "execution_count": 48,
   "id": "6331f7ab",
   "metadata": {},
   "outputs": [],
   "source": [
    "question='If i am to create an annotation file for a list of stocks, what can be useful information? I can think of market cap, beta, a summary of its business, place of registration'"
   ]
  },
  {
   "cell_type": "code",
   "execution_count": 12,
   "id": "f08bb7e7",
   "metadata": {},
   "outputs": [
    {
     "name": "stdout",
     "output_type": "stream",
     "text": [
      "Today is Wednesday, February 5, 2025, and the time is 8:00:49 PM UTC.\n",
      "\n"
     ]
    }
   ],
   "source": []
  },
  {
   "cell_type": "code",
   "execution_count": 49,
   "id": "92aa082e",
   "metadata": {},
   "outputs": [
    {
     "name": "stdout",
     "output_type": "stream",
     "text": [
      "<think>\n",
      "Okay, so the user wants to create an annotation file for a list of stocks and is asking what useful information to include. They've already thought of market cap, beta, a business summary, and place of registration. That's a solid start, but I can probably help them think of more comprehensive details.\n",
      "\n",
      "First, I should consider who the user is. They mentioned they're a financial analyst, so they likely need detailed and actionable data. Their main goal is to create an annotation file, which I assume will be used for analysis, reporting, or maybe feeding into a model.\n",
      "\n",
      "The user's initial ideas cover some fundamentals: market cap gives size, beta shows volatility, business summary provides context, and place of registration indicates jurisdiction. But maybe they need more granular information depending on their use case. For instance, if they're doing a valuation, financial metrics like P/E ratio or dividend yield would be important. If they're assessing risk, including beta is good, but also credit rating could add more depth.\n",
      "\n",
      "I should think about different categories of information. Fundamental data is crucial—things like industry, sector, key products, revenue streams. That helps in understanding the company's position. Financial metrics are also key: market cap, P/E ratio, dividend info. \n",
      "\n",
      "Then, valuation metrics can provide insight into how the market views the stock. Multiples like P/E, P/B, EV/EBITDA are standard. Ownership structure might be relevant for assessing governance or potential risks. \n",
      "\n",
      "Risk metrics beyond beta, like volatility and credit ratings, can give a better risk profile.Operational details such as headquarters location and employee count add context about the company's scale and reach.\n",
      "\n",
      "Competitive landscape info can help in understanding the company's position relative to others. ESG factors are increasingly important for investors, so including those makes sense. Corporate governance details like board structure and major shareholders can indicate management quality and potential influences.\n",
      "\n",
      "News and events can impact stock performance, so recent headlines and upcoming events are useful. Technical analysis metrics might be needed if the user is looking at trading strategies. Industry-specific metrics can provide more targeted insights depending on the sector.\n",
      "\n",
      "Lastly, regulatory and legal info is important for risk assessment. I should also think about how they'll use this data. If it's for screening stocks, they might need different info than if it's for portfolio management. \n",
      "\n",
      "I should list these categories and explain each briefly, giving the user a comprehensive yet flexible framework. They can then pick what's most relevant to their specific needs. Keeping it organized and clear will help them build a robust annotation file.\n",
      "</think>\n",
      "\n",
      "Creating a comprehensive annotation file for a list of stocks is a valuable task for analysis, reporting, or even machine learning applications. Below is a list of **useful information** you can include in your annotation file, depending on your goals and the level of detail required:\n",
      "\n",
      "---\n",
      "\n",
      "### **1. Fundamental Information**\n",
      "- **Ticker Symbol**: The stock ticker (e.g., AAPL for Apple Inc.).\n",
      "- **Company Name**: The full name of the company.\n",
      "- **Industry**: The industry the company operates in (e.g., Technology, Healthcare, Financials).\n",
      "- **Sector**: The broader sector (e.g., Information Technology, Consumer Discretionary).\n",
      "- **Key Products/Services**: A brief summary of the company's main offerings.\n",
      "- **Revenue Streams**: Primary sources of revenue (e.g., hardware sales, software subscriptions, advertising).\n",
      "- **Geographic Presence**: Where the company operates (e.g., global, regional, specific countries).\n",
      "\n",
      "---\n",
      "\n",
      "### **2. Financial Metrics**\n",
      "- **Market Capitalization (Market Cap)**: The total value of outstanding shares.\n",
      "- **Price-to-Earnings (P/E) Ratio**: Current stock price divided by earnings per share (EPS).\n",
      "- **Dividend Yield**: Annual dividend per share divided by stock price.\n",
      "- **Earnings Per Share (EPS)**: Net earnings allocated to each share.\n",
      "- **Revenue Growth Rate**: Year-over-year (YoY) or quarter-over-quarter (QoQ) revenue growth.\n",
      "- **Net Profit Margin**: Net income divided by revenue.\n",
      "- **Return on Equity (ROE)**: Net income divided by shareholders' equity.\n",
      "- **Debt-to-Equity Ratio**: Total liabilities divided by shareholders' equity.\n",
      "\n",
      "---\n",
      "\n",
      "### **3. Valuation Metrics**\n",
      "- **Price-to-Book (P/B) Ratio**: Stock price divided by book value per share.\n",
      "- **Price-to-Sales (P/S) Ratio**: Stock price divided by revenue per share.\n",
      "- **Enterprise Value-to-EBITDA (EV/EBITDA)**: Enterprise value divided by earnings before interest, taxes, depreciation, and amortization (EBITDA).\n",
      "\n",
      "---\n",
      "\n",
      "### **4. Ownership and Governance**\n",
      "- **Institutional Ownership**: Percentage of shares held by institutional investors.\n",
      "- **Insider Ownership**: Percentage of shares held by company insiders (e.g., executives, board members).\n",
      "- **Major Shareholders**: Names of significant shareholders.\n",
      "- **Board Composition**: Key members of the board of directors.\n",
      "- **CEO/Management**: Details about the CEO and other key executives.\n",
      "\n",
      "---\n",
      "\n",
      "### **5. Risk Metrics**\n",
      "- **Beta**: A measure of stock volatility relative to the market (e.g., S&P 500).\n",
      "- **Standard Deviation**: Historical volatility of the stock price.\n",
      "- **Credit Rating**: If applicable, the company's credit rating (e.g., Moody's, S&P).\n",
      "- **Short Interest**: Percentage of shares shorted.\n",
      "\n",
      "---\n",
      "\n",
      "### **6. Operational Information**\n",
      "- **Headquarters Location**: Where the company is based.\n",
      "- **Place of Registration**: Where the company is legally registered (e.g., Delaware, Ireland).\n",
      "- **Employee Count**: Number of employees.\n",
      "- **Founded Year**: Year the company was established.\n",
      "\n",
      "---\n",
      "\n",
      "### **7. Competitive Landscape**\n",
      "- **Key Competitors**: Names of direct competitors.\n",
      "- **Market Share**: The company's share of its industry's total revenue.\n",
      "- **Growth Drivers**: Factors driving the company's growth (e.g., innovation, acquisitions, market expansion).\n",
      "\n",
      "---\n",
      "\n",
      "### **8. ESG (Environmental, Social, Governance) Factors**\n",
      "- **ESG Score**: If available, a score or rating for the company's ESG performance.\n",
      "- **Carbon Footprint**: The company's greenhouse gas emissions.\n",
      "- **Social Responsibility Initiatives**: Summary of CSR activities.\n",
      "- **Corporate Governance Practices**: Any notable governance practices or controversies.\n",
      "\n",
      "---\n",
      "\n",
      "### **9. News and Events**\n",
      "- **Recent News Headlines**: Links or summaries of recent news articles.\n",
      "- **Upcoming Events**: Earnings calls, product launches, or other significant events.\n",
      "- **Analyst Ratings**: Recent upgrades/downgrades by financial analysts.\n",
      "\n",
      "---\n",
      "\n",
      "### **10. Technical Analysis Metrics**\n",
      "- **52-Week High/Low**: The stock's highest and lowest price over the past year.\n",
      "- **Moving Averages**: 50-day, 100-day, or 200-day moving averages.\n",
      "- **Relative Strength Index (RSI)**: A measure of overbought or oversold conditions.\n",
      "\n",
      "---\n",
      "\n",
      "### **11. Industry-Specific Metrics**\n",
      "- **For Banks**: Net interest margin, loan-to-asset ratio.\n",
      "- **For Retail Companies**: Same-store sales growth.\n",
      "- **For Tech Companies**: Research and development (R&D) spending, user growth metrics.\n",
      "\n",
      "---\n",
      "\n",
      "### **12. Regulatory and Legal Information**\n",
      "- **Regulatory Environment**: Any relevant regulations impacting the company.\n",
      "- **Legal Issues**: Ongoing or recent legal disputes.\n",
      "\n",
      "---\n",
      "\n",
      "### **Other Considerations**\n",
      "- **Currency**: If the company reports in a currency different from your base currency.\n",
      "- **Fiscal Year-End**: The company's fiscal year-end date.\n",
      "- **Stock Exchange**: Which exchange(s) the stock is listed on (e.g., NYSE, NASDAQ, LSE).\n",
      "\n",
      "---\n",
      "\n",
      "### **How to Use This Information**\n",
      "The specific fields you include will depend on your intended use of the annotation file. For example:\n",
      "- If you're building a **stock screen**, you might focus on financial metrics like P/E ratio, dividend yield, and market cap.\n",
      "- If you're doing **fundamental analysis**, you might prioritize industry, business summary, and financial health metrics like ROE and debt-to-equity.\n",
      "- If you're working on **machine learning models**, you might need a broader set of features, including technical, fundamental, and sentiment data.\n",
      "\n",
      "Let me know if you'd like help structuring this data or organizing it into a specific format!\n"
     ]
    }
   ],
   "source": [
    "\n",
    "messages = [\n",
    "    {'role': 'system', 'content': 'You are a financial analyst'}, #Python programmer\n",
    "    {'role': 'user', 'content': question}\n",
    "    ]\n",
    "response = Generation.call(\n",
    "    # 若没有配置环境变量，请用百炼API Key将下行替换为：api_key = \"sk-xxx\",\n",
    "    api_key=os.getenv(\"DASHSCOPE_API_KEY\"), \n",
    "    model=\"deepseek-r1-distill-llama-70b\",   # 模型列表：https://help.aliyun.com/zh/model-studio/getting-started/models\n",
    "    messages=messages,\n",
    "    result_format=\"message\"\n",
    ")\n",
    "\n",
    "if response.status_code == 200:\n",
    "    print(response.output.choices[0].message.content)\n",
    "else:\n",
    "    print(f\"HTTP返回码：{response.status_code}\")\n",
    "    print(f\"错误码：{response.code}\")\n",
    "    print(f\"错误信息：{response.message}\")\n",
    "    print(\"请参考文档：https://help.aliyun.com/zh/model-studio/developer-reference/error-code\")"
   ]
  },
  {
   "cell_type": "code",
   "execution_count": 51,
   "id": "f8513d19",
   "metadata": {},
   "outputs": [
    {
     "data": {
      "text/plain": [
       "\"Creating a comprehensive annotation file for a list of stocks is a valuable task for analysis, reporting, or even machine learning applications. Below is a list of **useful information** you can include in your annotation file, depending on your goals and the level of detail required:\\n\\n---\\n\\n### **1. Fundamental Information**\\n- **Ticker Symbol**: The stock ticker (e.g., AAPL for Apple Inc.).\\n- **Company Name**: The full name of the company.\\n- **Industry**: The industry the company operates in (e.g., Technology, Healthcare, Financials).\\n- **Sector**: The broader sector (e.g., Information Technology, Consumer Discretionary).\\n- **Key Products/Services**: A brief summary of the company's main offerings.\\n- **Revenue Streams**: Primary sources of revenue (e.g., hardware sales, software subscriptions, advertising).\\n- **Geographic Presence**: Where the company operates (e.g., global, regional, specific countries).\\n\\n---\\n\\n### **2. Financial Metrics**\\n- **Market Capitalization (Market Cap)**: The total value of outstanding shares.\\n- **Price-to-Earnings (P/E) Ratio**: Current stock price divided by earnings per share (EPS).\\n- **Dividend Yield**: Annual dividend per share divided by stock price.\\n- **Earnings Per Share (EPS)**: Net earnings allocated to each share.\\n- **Revenue Growth Rate**: Year-over-year (YoY) or quarter-over-quarter (QoQ) revenue growth.\\n- **Net Profit Margin**: Net income divided by revenue.\\n- **Return on Equity (ROE)**: Net income divided by shareholders' equity.\\n- **Debt-to-Equity Ratio**: Total liabilities divided by shareholders' equity.\\n\\n---\\n\\n### **3. Valuation Metrics**\\n- **Price-to-Book (P/B) Ratio**: Stock price divided by book value per share.\\n- **Price-to-Sales (P/S) Ratio**: Stock price divided by revenue per share.\\n- **Enterprise Value-to-EBITDA (EV/EBITDA)**: Enterprise value divided by earnings before interest, taxes, depreciation, and amortization (EBITDA).\\n\\n---\\n\\n### **4. Ownership and Governance**\\n- **Institutional Ownership**: Percentage of shares held by institutional investors.\\n- **Insider Ownership**: Percentage of shares held by company insiders (e.g., executives, board members).\\n- **Major Shareholders**: Names of significant shareholders.\\n- **Board Composition**: Key members of the board of directors.\\n- **CEO/Management**: Details about the CEO and other key executives.\\n\\n---\\n\\n### **5. Risk Metrics**\\n- **Beta**: A measure of stock volatility relative to the market (e.g., S&P 500).\\n- **Standard Deviation**: Historical volatility of the stock price.\\n- **Credit Rating**: If applicable, the company's credit rating (e.g., Moody's, S&P).\\n- **Short Interest**: Percentage of shares shorted.\\n\\n---\\n\\n### **6. Operational Information**\\n- **Headquarters Location**: Where the company is based.\\n- **Place of Registration**: Where the company is legally registered (e.g., Delaware, Ireland).\\n- **Employee Count**: Number of employees.\\n- **Founded Year**: Year the company was established.\\n\\n---\\n\\n### **7. Competitive Landscape**\\n- **Key Competitors**: Names of direct competitors.\\n- **Market Share**: The company's share of its industry's total revenue.\\n- **Growth Drivers**: Factors driving the company's growth (e.g., innovation, acquisitions, market expansion).\\n\\n---\\n\\n### **8. ESG (Environmental, Social, Governance) Factors**\\n- **ESG Score**: If available, a score or rating for the company's ESG performance.\\n- **Carbon Footprint**: The company's greenhouse gas emissions.\\n- **Social Responsibility Initiatives**: Summary of CSR activities.\\n- **Corporate Governance Practices**: Any notable governance practices or controversies.\\n\\n---\\n\\n### **9. News and Events**\\n- **Recent News Headlines**: Links or summaries of recent news articles.\\n- **Upcoming Events**: Earnings calls, product launches, or other significant events.\\n- **Analyst Ratings**: Recent upgrades/downgrades by financial analysts.\\n\\n---\\n\\n### **10. Technical Analysis Metrics**\\n- **52-Week High/Low**: The stock's highest and lowest price over the past year.\\n- **Moving Averages**: 50-day, 100-day, or 200-day moving averages.\\n- **Relative Strength Index (RSI)**: A measure of overbought or oversold conditions.\\n\\n---\\n\\n### **11. Industry-Specific Metrics**\\n- **For Banks**: Net interest margin, loan-to-asset ratio.\\n- **For Retail Companies**: Same-store sales growth.\\n- **For Tech Companies**: Research and development (R&D) spending, user growth metrics.\\n\\n---\\n\\n### **12. Regulatory and Legal Information**\\n- **Regulatory Environment**: Any relevant regulations impacting the company.\\n- **Legal Issues**: Ongoing or recent legal disputes.\\n\\n---\\n\\n### **Other Considerations**\\n- **Currency**: If the company reports in a currency different from your base currency.\\n- **Fiscal Year-End**: The company's fiscal year-end date.\\n- **Stock Exchange**: Which exchange(s) the stock is listed on (e.g., NYSE, NASDAQ, LSE).\\n\\n---\\n\\n### **How to Use This Information**\\nThe specific fields you include will depend on your intended use of the annotation file. For example:\\n- If you're building a **stock screen**, you might focus on financial metrics like P/E ratio, dividend yield, and market cap.\\n- If you're doing **fundamental analysis**, you might prioritize industry, business summary, and financial health metrics like ROE and debt-to-equity.\\n- If you're working on **machine learning models**, you might need a broader set of features, including technical, fundamental, and sentiment data.\\n\\nLet me know if you'd like help structuring this data or organizing it into a specific format!\""
      ]
     },
     "execution_count": 51,
     "metadata": {},
     "output_type": "execute_result"
    }
   ],
   "source": [
    "\n",
    "re.sub('<think>[^>]+</think>\\n\\n', '', response.output.choices[0].message.content)"
   ]
  },
  {
   "cell_type": "code",
   "execution_count": 56,
   "id": "ed6be32e",
   "metadata": {},
   "outputs": [
    {
     "data": {
      "text/plain": [
       "'<think>\\nOkay, so the user wants to write a Python program that removes content between the words \" Includes\" and \"Please\". They provided an example where the input is a string with those words, and the output should exclude the text in between, keeping the rest.\\n\\nFirst, I need to figure out how to identify the start and end points. The problem mentions \" Includes\" and \"Please\", so I should look for those exact strings. But wait, the input example shows \" Includes\" with a capital \\'I\\' and a space before it, while \"Please\" is lowercase. I need to make sure the code accounts for case sensitivity. But in the example, the code seems to be case-sensitive. Maybe the user wants an exact match.\\n\\nNext, I should split the string into parts. The idea is to split the string into three parts: before \" Includes\", the part to be removed, and after \"Please\". So, using split with a maxsplit of 2 would give me three parts.\\n\\nWait, in Python, the split method can take a maxsplit parameter. So, if I split on \" Includes\", it will give me the part before and the rest. Then, I can split the second part on \"Please\" to get the part after. So, putting it all together, the desired output is the first part plus \"Please\" plus the part after.\\n\\nFor example, in the sample input, splitting on \" Includes\" gives two parts: the first part is everything before, and the second part is everything after, including \"Please\". Then, splitting the second part on \"Please\" gives the part before (which is the content to remove) and the part after. So, the result is first_part + \"Please\" + the part after.\\n\\nI need to test this logic with the sample input. The input is \"Hello! Includes some random content Please keep this.\" Splitting on \" Includes\" gives [\"Hello!\", \"some random content Please keep this.\"]. Then, splitting the second part on \"Please\" gives [\"some random content \", \" keep this.\"]. So, the result is \"Hello!Please keep this.\".\\n\\nWait, that\\'s not exactly the sample output. The sample output is \"Hello!Please keep this.\" but the user\\'s example shows \"Hello!Please keep this.\" So, maybe I need to include the \"Please\" in the output. So, the code should take the first part, add \"Please\", and then the part after.\\n\\nWait, in the example, the output is \"Hello!Please keep this.\" So, the code correctly adds \"Please\" after the first part. So, the code seems to handle that.\\n\\nWhat about cases where \" Includes\" doesn\\'t exist? Well, the code should return the original string if \" Includes\" isn\\'t found. Similarly, if \"Please\" isn\\'t found after \" Includes\", it might cause an error. So, I need to handle those cases, but the user\\'s example doesn\\'t cover that. Maybe for simplicity, the code assumes that both markers are present.\\n\\nPutting it all together, the code takes the input string, splits on \" Includes\", then takes the second part and splits on \"Please\", then combines the first part with \"Please\" and the part after.\\n\\nI think that\\'s the approach. Now, writing the code accordingly.\\n</think>\\n\\nTo solve this problem, we need to write a Python program that removes content between the words \"Includes\" and \"Please\" from a given string. The goal is to extract the parts of the string before \"Includes\" and after \"Please\" while ensuring that \"Please\" is included in the output.\\n\\n### Approach\\nThe approach to solve this problem involves the following steps:\\n1. **Identify the Start and End Points**: We need to locate the positions of the words \"Includes\" and \"Please\" within the input string.\\n2. **Split the String**: Using the identified positions, split the string into three parts:\\n   - The part before \"Includes\".\\n   - The part between \"Includes\" and \"Please\" (which we will discard).\\n   - The part after \"Please\".\\n3. **Combine the Desired Parts**: Concatenate the part before \"Includes\" with \"Please\" and the part after \"Please\" to form the final output string.\\n\\n### Solution Code\\n```python\\ndef remove_between_includes_please(input_str):\\n    # Split the string into parts before and after \"Includes\"\\n    parts = input_str.split(\"Includes\", 1)\\n    if len(parts) < 2:\\n        return input_str  # \"Includes\" not found, return original string\\n    \\n    first_part = parts[0]\\n    remaining = parts[1]\\n    \\n    # Split the remaining part into parts before and after \"Please\"\\n    please_parts = remaining.split(\"Please\", 1)\\n    if len(please_parts) < 2:\\n        return input_str  # \"Please\" not found after \"Includes\", return original string\\n    \\n    after_please = please_parts[1]\\n    \\n    # Combine the first part with \"Please\" and everything after\\n    return f\"{first_part}Please{after_please}\"\\n\\n# Example usage\\ninput_str = \"Hello! Includes some random content Please keep this.\"\\nresult = remove_between_includes_please(input_str)\\nprint(result)  # Output: \"Hello!Please keep this.\"\\n```\\n\\n### Explanation\\n- **Splitting the String**: The `split` method is used to divide the string into parts. By splitting on \"Includes\" and \"Please\", we can isolate the parts of the string that we need to keep.\\n- **Handling Edge Cases**: The code checks if the split operations result in fewer parts than expected, which would indicate that the delimiter was not found. In such cases, the original string is returned to handle the scenario gracefully.\\n- **Concatenation**: After splitting, the parts of the string before \"Includes\" and after \"Please\" are concatenated to form the final result, ensuring that \"Please\" is included in the output.\\n\\nThis approach efficiently removes the content between \"Includes\" and \"Please\" while preserving the rest of the string, providing the desired output.'"
      ]
     },
     "execution_count": 56,
     "metadata": {},
     "output_type": "execute_result"
    }
   ],
   "source": []
  },
  {
   "cell_type": "code",
   "execution_count": null,
   "id": "1dcf95d8",
   "metadata": {},
   "outputs": [],
   "source": [
    "\n",
    "def get_intraday_losers(tickers, ending=''):\n",
    "    \"\"\"Get top N intraday losers from a predefined S&P 500 ticker list with company details\n",
    "    \n",
    "    Returns DataFrame with company name, sector, market cap, current price, and percentage change.\n",
    "    Includes random sleep intervals between API calls to prevent rate limiting.\n",
    "    \"\"\"\n",
    "    losers = []\n",
    "    \n",
    "    def get_market_cap_formatted(market_cap):\n",
    "        \"\"\"Convert market cap to readable format\"\"\"\n",
    "        if not market_cap:\n",
    "            return 'N/A'\n",
    "        billion = 1_000_000_000\n",
    "        if market_cap >= billion:\n",
    "            return f\"${round(market_cap/billion, 1)}B\"\n",
    "        else:\n",
    "            return f\"${round(market_cap/1_000_000, 1)}M\"\n",
    "    \n",
    "    for ticker in tickers:\n",
    "        print(ticker)\n",
    "        try:\n",
    "            # Random sleep between 0 and 3 seconds\n",
    "            time.sleep(random.uniform(0, 1))\n",
    "            \n",
    "            stock = yf.Ticker(ticker+ending)\n",
    "            data = stock.history(period='1d', interval='1m')\n",
    "            \n",
    "            if len(data) < 2:\n",
    "                continue\n",
    "                \n",
    "            latest_price = data['Close'].iloc[-1]\n",
    "            prev_close = stock.info.get('regularMarketPreviousClose', None)\n",
    "            \n",
    "            if prev_close and latest_price:\n",
    "                pct_change = (latest_price - prev_close) / prev_close * 100\n",
    "                losers.append({\n",
    "                    'Ticker': ticker,\n",
    "                    'Company Name': stock.info.get('longName', 'N/A'),\n",
    "                    'Sector': stock.info.get('sector', 'N/A'),\n",
    "                    'Market Cap': get_market_cap_formatted(stock.info.get('marketCap', None)),\n",
    "                    'Price': round(latest_price, 2),\n",
    "                    '% Change': round(pct_change, 2)\n",
    "                })\n",
    "        except Exception as e:\n",
    "            continue\n",
    "    \n",
    "    losers_df = pd.DataFrame(losers)\n",
    "    if len(losers_df) == 0:\n",
    "        return pd.DataFrame(columns=['Ticker', 'Company Name', 'Sector', 'Market Cap', 'Price', '% Change'])\n",
    "    \n",
    "    losers_df = losers_df.sort_values(by='% Change')\n",
    "    return losers_df[['Ticker', 'Company Name', 'Sector', 'Market Cap', 'Price', '% Change']].reset_index(drop=True)\n"
   ]
  }
 ],
 "metadata": {
  "kernelspec": {
   "display_name": "Python 3 (ipykernel)",
   "language": "python",
   "name": "python3"
  },
  "language_info": {
   "codemirror_mode": {
    "name": "ipython",
    "version": 3
   },
   "file_extension": ".py",
   "mimetype": "text/x-python",
   "name": "python",
   "nbconvert_exporter": "python",
   "pygments_lexer": "ipython3",
   "version": "3.11.8"
  }
 },
 "nbformat": 4,
 "nbformat_minor": 5
}
